{
 "cells": [
  {
   "cell_type": "markdown",
   "id": "214f58f6",
   "metadata": {},
   "source": [
    "# Calculate arbitrage of pre-emption right\n",
    "in this simple code I want to calculate if we can earn profit with no risk. <br>\n",
    "suppose we intend to hold stock for a long time. at first We assume company does not have annual meeting during this period.\n",
    "<br><br>\n",
    "## parameters\n",
    "1- stock price <br>\n",
    "2- pre-emption right price <br>\n",
    "3- days to finish pre-emption right<br>\n",
    "4- days from finish pre-emption right to become stock <br>\n",
    "5- interest rate <br>\n",
    "\n"
   ]
  },
  {
   "cell_type": "code",
   "execution_count": 1,
   "id": "1daf38f0",
   "metadata": {},
   "outputs": [],
   "source": [
    "# you can choose these parameters yourself.\n",
    "p_stock = 12000 # price of stock\n",
    "\n",
    "p_per = 9000 # per is the summery for pre-emption right\n",
    "\n",
    "day_to_finish_per = 30 # days to finish per trading priod.\n",
    "\n",
    "con_stock_days = 120 # days to convert per to stock  \n",
    "\n",
    "i_rate = 0.2 #intrest rate per year\n",
    "\n",
    "nominal_price = 1000"
   ]
  },
  {
   "cell_type": "code",
   "execution_count": 2,
   "id": "1b1dfb4a",
   "metadata": {},
   "outputs": [],
   "source": [
    "def fixed_income(deposit, days):\n",
    "    i_daily = i_rate/365\n",
    "    withdraw = deposit\n",
    "    for day in range(days):\n",
    "        withdraw = withdraw * (1+ i_daily)\n",
    "    return withdraw    "
   ]
  },
  {
   "cell_type": "code",
   "execution_count": 3,
   "id": "cbea1cc4",
   "metadata": {},
   "outputs": [
    {
     "name": "stdout",
     "output_type": "stream",
     "text": [
      "you can earn 2188.974564399752 per stock\n"
     ]
    }
   ],
   "source": [
    "money_left = p_stock - p_per\n",
    "m_finish_per = fixed_income(money_left, day_to_finish_per)\n",
    "m_after_per_payment = m_finish_per - nominal_price\n",
    "arbitrage = fixed_income(m_after_per_payment, con_stock_days)\n",
    "\n",
    "if arbitrage > 0 :\n",
    "    \n",
    "    print(f'you can earn {arbitrage} per stock')\n",
    "else:\n",
    "    print('you lose money in this trade.')\n",
    "    "
   ]
  },
  {
   "cell_type": "markdown",
   "id": "5566d50b",
   "metadata": {},
   "source": [
    "now we assume company have annual meeting during this time and profit sharing"
   ]
  },
  {
   "cell_type": "code",
   "execution_count": 4,
   "id": "4b1e3dcb",
   "metadata": {},
   "outputs": [],
   "source": [
    "#choose devidens here\n",
    "devidends = 1000\n",
    "days_to_con = 60"
   ]
  },
  {
   "cell_type": "code",
   "execution_count": 5,
   "id": "15779442",
   "metadata": {},
   "outputs": [
    {
     "name": "stdout",
     "output_type": "stream",
     "text": [
      "you can earn 1155.56074627329 per stock\n"
     ]
    }
   ],
   "source": [
    "devidend_value = fixed_income(devidends, days_to_con)\n",
    "arbitrage = fixed_income(m_after_per_payment, con_stock_days) - devidend_value\n",
    "\n",
    "if arbitrage > 0 :\n",
    "    \n",
    "    print(f'you can earn {arbitrage} per stock')\n",
    "else:\n",
    "    print('you lose money in this trade.')\n"
   ]
  }
 ],
 "metadata": {
  "kernelspec": {
   "display_name": "Python 3",
   "language": "python",
   "name": "python3"
  },
  "language_info": {
   "codemirror_mode": {
    "name": "ipython",
    "version": 3
   },
   "file_extension": ".py",
   "mimetype": "text/x-python",
   "name": "python",
   "nbconvert_exporter": "python",
   "pygments_lexer": "ipython3",
   "version": "3.8.5"
  }
 },
 "nbformat": 4,
 "nbformat_minor": 5
}
