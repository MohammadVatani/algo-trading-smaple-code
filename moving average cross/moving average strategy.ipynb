{
 "cells": [
  {
   "cell_type": "code",
   "execution_count": 1,
   "id": "b5924ff8",
   "metadata": {},
   "outputs": [],
   "source": [
    "import numpy as np\n",
    "import pandas as pd\n",
    "import btalib as ta\n",
    "import datetime as dt\n",
    "import matplotlib.pyplot as plt\n"
   ]
  },
  {
   "cell_type": "code",
   "execution_count": 2,
   "id": "7852175f",
   "metadata": {},
   "outputs": [],
   "source": [
    "overall_index = pd.read_csv('overall index.csv')"
   ]
  },
  {
   "cell_type": "code",
   "execution_count": 3,
   "id": "62e863a9",
   "metadata": {},
   "outputs": [],
   "source": [
    "overall_index.drop(columns='<TICKER>',inplace = True)"
   ]
  },
  {
   "cell_type": "code",
   "execution_count": 4,
   "id": "c7b957a3",
   "metadata": {},
   "outputs": [],
   "source": [
    "my_columns = {'<DTYYYYMMDD>':'Date','<OPEN>':'Open','<HIGH>':'High','<LOW>':'Low','<CLOSE>':'Close','<VOL>':'Vol'}\n",
    "overall_index.rename(columns = my_columns,inplace = True )"
   ]
  },
  {
   "cell_type": "code",
   "execution_count": 5,
   "id": "292318cd",
   "metadata": {},
   "outputs": [],
   "source": [
    "def datetime_format(x):\n",
    "    y= str(x)[:4]\n",
    "    m= str(x)[4:6]\n",
    "    d= str(x)[6:8]\n",
    "    date = f'{y}-{m}-{d}'\n",
    "    return date\n",
    "overall_index['Date'] = overall_index['Date'].apply(lambda x: datetime_format(x))"
   ]
  },
  {
   "cell_type": "code",
   "execution_count": 6,
   "id": "d798475d",
   "metadata": {},
   "outputs": [],
   "source": [
    "overall_index.set_index(['Date'],inplace= True)"
   ]
  },
  {
   "cell_type": "code",
   "execution_count": 7,
   "id": "de90789b",
   "metadata": {},
   "outputs": [],
   "source": [
    "# change numbers to see different results\n",
    "numA = 100\n",
    "numB = 50"
   ]
  },
  {
   "cell_type": "code",
   "execution_count": 8,
   "id": "265d16f4",
   "metadata": {},
   "outputs": [],
   "source": [
    "emaA = ta.ema(overall_index.Close, period=numA).df.rename(columns = {'ema':'emaA'})\n",
    "emaB = ta.ema(overall_index.Close, period = numB).df.rename(columns = {'ema':'emaB'})"
   ]
  },
  {
   "cell_type": "code",
   "execution_count": 9,
   "id": "b10e6a8a",
   "metadata": {},
   "outputs": [],
   "source": [
    "overall_index = pd.merge(overall_index, emaA,on = 'Date', how = 'left')\n",
    "overall_index = pd.merge(overall_index, emaB, on = 'Date', how= 'left')"
   ]
  },
  {
   "cell_type": "code",
   "execution_count": 10,
   "id": "7cd8befd",
   "metadata": {},
   "outputs": [],
   "source": [
    "buy  = []\n",
    "sell = []\n",
    "trigger = 0\n",
    "for row in range(overall_index.shape[0]):\n",
    "    if overall_index['emaB'].iloc[row] > overall_index['emaA'].iloc[row] and trigger == 0 :\n",
    "        buy.append(overall_index['Close'].iloc[row])\n",
    "        sell.append(float(\"NaN\"))\n",
    "\n",
    "        trigger = 1\n",
    "    elif overall_index['emaB'].iloc[row] < overall_index['emaA'].iloc[row] and trigger == 1 :\n",
    "        buy.append(float(\"NaN\"))\n",
    "        sell.append(overall_index['Close'].iloc[row])\n",
    "        trigger = 0\n",
    "    else:\n",
    "        sell.append(float('NaN'))\n",
    "        buy.append(float('NaN'))\n",
    "\n",
    "        \n",
    "        \n",
    "\n",
    "        \n",
    "    \n",
    "        \n",
    "        \n",
    "    "
   ]
  },
  {
   "cell_type": "code",
   "execution_count": 11,
   "id": "c35407c2",
   "metadata": {},
   "outputs": [],
   "source": [
    "overall_index['buy'] = buy\n",
    "overall_index['sell'] = sell"
   ]
  },
  {
   "cell_type": "code",
   "execution_count": 12,
   "id": "14eff1f5",
   "metadata": {},
   "outputs": [
    {
     "data": {
      "text/html": [
       "<div>\n",
       "<style scoped>\n",
       "    .dataframe tbody tr th:only-of-type {\n",
       "        vertical-align: middle;\n",
       "    }\n",
       "\n",
       "    .dataframe tbody tr th {\n",
       "        vertical-align: top;\n",
       "    }\n",
       "\n",
       "    .dataframe thead th {\n",
       "        text-align: right;\n",
       "    }\n",
       "</style>\n",
       "<table border=\"1\" class=\"dataframe\">\n",
       "  <thead>\n",
       "    <tr style=\"text-align: right;\">\n",
       "      <th></th>\n",
       "      <th>Open</th>\n",
       "      <th>High</th>\n",
       "      <th>Low</th>\n",
       "      <th>Close</th>\n",
       "      <th>Vol</th>\n",
       "      <th>emaA</th>\n",
       "      <th>emaB</th>\n",
       "      <th>buy</th>\n",
       "      <th>sell</th>\n",
       "    </tr>\n",
       "    <tr>\n",
       "      <th>Date</th>\n",
       "      <th></th>\n",
       "      <th></th>\n",
       "      <th></th>\n",
       "      <th></th>\n",
       "      <th></th>\n",
       "      <th></th>\n",
       "      <th></th>\n",
       "      <th></th>\n",
       "      <th></th>\n",
       "    </tr>\n",
       "  </thead>\n",
       "  <tbody>\n",
       "    <tr>\n",
       "      <th>2008-12-06</th>\n",
       "      <td>9248.8</td>\n",
       "      <td>9248.8</td>\n",
       "      <td>9167.8</td>\n",
       "      <td>9178.3</td>\n",
       "      <td>8539624</td>\n",
       "      <td>NaN</td>\n",
       "      <td>NaN</td>\n",
       "      <td>NaN</td>\n",
       "      <td>NaN</td>\n",
       "    </tr>\n",
       "    <tr>\n",
       "      <th>2008-12-07</th>\n",
       "      <td>9178.3</td>\n",
       "      <td>9178.3</td>\n",
       "      <td>9130.3</td>\n",
       "      <td>9130.5</td>\n",
       "      <td>11752353</td>\n",
       "      <td>NaN</td>\n",
       "      <td>NaN</td>\n",
       "      <td>NaN</td>\n",
       "      <td>NaN</td>\n",
       "    </tr>\n",
       "    <tr>\n",
       "      <th>2008-12-08</th>\n",
       "      <td>9102.7</td>\n",
       "      <td>9103.4</td>\n",
       "      <td>9079.6</td>\n",
       "      <td>9089.2</td>\n",
       "      <td>15299115</td>\n",
       "      <td>NaN</td>\n",
       "      <td>NaN</td>\n",
       "      <td>NaN</td>\n",
       "      <td>NaN</td>\n",
       "    </tr>\n",
       "    <tr>\n",
       "      <th>2008-12-10</th>\n",
       "      <td>9071.6</td>\n",
       "      <td>9071.6</td>\n",
       "      <td>9023.7</td>\n",
       "      <td>9023.7</td>\n",
       "      <td>15689653</td>\n",
       "      <td>NaN</td>\n",
       "      <td>NaN</td>\n",
       "      <td>NaN</td>\n",
       "      <td>NaN</td>\n",
       "    </tr>\n",
       "    <tr>\n",
       "      <th>2008-12-13</th>\n",
       "      <td>8973.3</td>\n",
       "      <td>8973.0</td>\n",
       "      <td>8973.0</td>\n",
       "      <td>8973.3</td>\n",
       "      <td>31428174</td>\n",
       "      <td>NaN</td>\n",
       "      <td>NaN</td>\n",
       "      <td>NaN</td>\n",
       "      <td>NaN</td>\n",
       "    </tr>\n",
       "    <tr>\n",
       "      <th>...</th>\n",
       "      <td>...</td>\n",
       "      <td>...</td>\n",
       "      <td>...</td>\n",
       "      <td>...</td>\n",
       "      <td>...</td>\n",
       "      <td>...</td>\n",
       "      <td>...</td>\n",
       "      <td>...</td>\n",
       "      <td>...</td>\n",
       "    </tr>\n",
       "    <tr>\n",
       "      <th>2021-06-30</th>\n",
       "      <td>1249300.0</td>\n",
       "      <td>1256960.0</td>\n",
       "      <td>1248100.0</td>\n",
       "      <td>1256960.2</td>\n",
       "      <td>6152334613</td>\n",
       "      <td>1.216293e+06</td>\n",
       "      <td>1.188369e+06</td>\n",
       "      <td>NaN</td>\n",
       "      <td>NaN</td>\n",
       "    </tr>\n",
       "    <tr>\n",
       "      <th>2021-07-03</th>\n",
       "      <td>1258600.0</td>\n",
       "      <td>1258900.0</td>\n",
       "      <td>1246050.0</td>\n",
       "      <td>1246055.4</td>\n",
       "      <td>6308319007</td>\n",
       "      <td>1.216882e+06</td>\n",
       "      <td>1.190632e+06</td>\n",
       "      <td>NaN</td>\n",
       "      <td>NaN</td>\n",
       "    </tr>\n",
       "    <tr>\n",
       "      <th>2021-07-04</th>\n",
       "      <td>1242840.0</td>\n",
       "      <td>1244540.0</td>\n",
       "      <td>1237550.0</td>\n",
       "      <td>1243751.9</td>\n",
       "      <td>5329408022</td>\n",
       "      <td>1.217414e+06</td>\n",
       "      <td>1.192715e+06</td>\n",
       "      <td>NaN</td>\n",
       "      <td>NaN</td>\n",
       "    </tr>\n",
       "    <tr>\n",
       "      <th>2021-07-05</th>\n",
       "      <td>1245320.0</td>\n",
       "      <td>1254610.0</td>\n",
       "      <td>1245320.0</td>\n",
       "      <td>1254612.5</td>\n",
       "      <td>5791965079</td>\n",
       "      <td>1.218151e+06</td>\n",
       "      <td>1.195142e+06</td>\n",
       "      <td>NaN</td>\n",
       "      <td>NaN</td>\n",
       "    </tr>\n",
       "    <tr>\n",
       "      <th>2021-07-06</th>\n",
       "      <td>1261580.0</td>\n",
       "      <td>1281270.0</td>\n",
       "      <td>1261580.0</td>\n",
       "      <td>1281130.5</td>\n",
       "      <td>6464619858</td>\n",
       "      <td>1.219398e+06</td>\n",
       "      <td>1.198514e+06</td>\n",
       "      <td>NaN</td>\n",
       "      <td>NaN</td>\n",
       "    </tr>\n",
       "  </tbody>\n",
       "</table>\n",
       "<p>3030 rows × 9 columns</p>\n",
       "</div>"
      ],
      "text/plain": [
       "                 Open       High        Low      Close         Vol  \\\n",
       "Date                                                                 \n",
       "2008-12-06     9248.8     9248.8     9167.8     9178.3     8539624   \n",
       "2008-12-07     9178.3     9178.3     9130.3     9130.5    11752353   \n",
       "2008-12-08     9102.7     9103.4     9079.6     9089.2    15299115   \n",
       "2008-12-10     9071.6     9071.6     9023.7     9023.7    15689653   \n",
       "2008-12-13     8973.3     8973.0     8973.0     8973.3    31428174   \n",
       "...               ...        ...        ...        ...         ...   \n",
       "2021-06-30  1249300.0  1256960.0  1248100.0  1256960.2  6152334613   \n",
       "2021-07-03  1258600.0  1258900.0  1246050.0  1246055.4  6308319007   \n",
       "2021-07-04  1242840.0  1244540.0  1237550.0  1243751.9  5329408022   \n",
       "2021-07-05  1245320.0  1254610.0  1245320.0  1254612.5  5791965079   \n",
       "2021-07-06  1261580.0  1281270.0  1261580.0  1281130.5  6464619858   \n",
       "\n",
       "                    emaA          emaB  buy  sell  \n",
       "Date                                               \n",
       "2008-12-06           NaN           NaN  NaN   NaN  \n",
       "2008-12-07           NaN           NaN  NaN   NaN  \n",
       "2008-12-08           NaN           NaN  NaN   NaN  \n",
       "2008-12-10           NaN           NaN  NaN   NaN  \n",
       "2008-12-13           NaN           NaN  NaN   NaN  \n",
       "...                  ...           ...  ...   ...  \n",
       "2021-06-30  1.216293e+06  1.188369e+06  NaN   NaN  \n",
       "2021-07-03  1.216882e+06  1.190632e+06  NaN   NaN  \n",
       "2021-07-04  1.217414e+06  1.192715e+06  NaN   NaN  \n",
       "2021-07-05  1.218151e+06  1.195142e+06  NaN   NaN  \n",
       "2021-07-06  1.219398e+06  1.198514e+06  NaN   NaN  \n",
       "\n",
       "[3030 rows x 9 columns]"
      ]
     },
     "execution_count": 12,
     "metadata": {},
     "output_type": "execute_result"
    }
   ],
   "source": [
    "overall_index"
   ]
  },
  {
   "cell_type": "code",
   "execution_count": 13,
   "id": "cd48f507",
   "metadata": {},
   "outputs": [
    {
     "data": {
      "image/png": "[encoded data removed]",
      "text/plain": [
       "<Figure size 1296x576 with 1 Axes>"
      ]
     },
     "metadata": {
      "needs_background": "light"
     },
     "output_type": "display_data"
    }
   ],
   "source": [
    "plt.figure(figsize=(18,8))\n",
    "plt.plot(overall_index['Close'],label = 'overall index', alpha =0.9,color = 'black')\n",
    "plt.plot(overall_index['emaA'],label = f'ema{numA}', color = 'red',linestyle= '--')\n",
    "plt.plot(overall_index['emaB'], label = f'ema{numB}', color = 'blue',linestyle = '--')\n",
    "plt.scatter(overall_index.index,overall_index['buy'], label= 'buy', marker = '^', color = '#00ff00',lw=3)\n",
    "plt.scatter(overall_index.index,overall_index['sell'], label= 'sell', marker = 'v', color = '#ff0000', lw=3)\n",
    "plt.yscale('log')\n",
    "plt.show()"
   ]
  },
  {
   "cell_type": "code",
   "execution_count": 14,
   "id": "6f26fdbe",
   "metadata": {},
   "outputs": [],
   "source": [
    "buy = overall_index['buy'][overall_index['buy'] > 0]\n",
    "buy_date = buy.index.tolist()\n",
    "buy_price = buy.tolist()\n",
    "\n",
    "del buy"
   ]
  },
  {
   "cell_type": "code",
   "execution_count": 15,
   "id": "42073da6",
   "metadata": {},
   "outputs": [],
   "source": [
    "sell = overall_index['sell'][overall_index['sell'] > 0]\n",
    "sell_date = sell.index.tolist()\n",
    "sell_price = sell.tolist()\n",
    "del sell"
   ]
  },
  {
   "cell_type": "code",
   "execution_count": 16,
   "id": "a63dd33a",
   "metadata": {},
   "outputs": [],
   "source": [
    "if len(buy_price) != len(sell_price):\n",
    "    sell_date.append(overall_index.index[-1])\n",
    "    sell_price.append(overall_index.Close[-1])"
   ]
  },
  {
   "cell_type": "code",
   "execution_count": 17,
   "id": "a45fc0f0",
   "metadata": {},
   "outputs": [
    {
     "data": {
      "text/html": [
       "<div>\n",
       "<style scoped>\n",
       "    .dataframe tbody tr th:only-of-type {\n",
       "        vertical-align: middle;\n",
       "    }\n",
       "\n",
       "    .dataframe tbody tr th {\n",
       "        vertical-align: top;\n",
       "    }\n",
       "\n",
       "    .dataframe thead th {\n",
       "        text-align: right;\n",
       "    }\n",
       "</style>\n",
       "<table border=\"1\" class=\"dataframe\">\n",
       "  <thead>\n",
       "    <tr style=\"text-align: right;\">\n",
       "      <th></th>\n",
       "      <th>buy_price</th>\n",
       "      <th>buy_date</th>\n",
       "      <th>sell_price</th>\n",
       "      <th>sell_date</th>\n",
       "      <th>return</th>\n",
       "      <th>duration</th>\n",
       "    </tr>\n",
       "  </thead>\n",
       "  <tbody>\n",
       "  </tbody>\n",
       "</table>\n",
       "</div>"
      ],
      "text/plain": [
       "Empty DataFrame\n",
       "Columns: [buy_price, buy_date, sell_price, sell_date, return, duration]\n",
       "Index: []"
      ]
     },
     "execution_count": 17,
     "metadata": {},
     "output_type": "execute_result"
    }
   ],
   "source": [
    "my_columns = ['buy_price','buy_date','sell_price','sell_date','return','duration']\n",
    "Trades = pd.DataFrame( columns = my_columns)\n",
    "Trades"
   ]
  },
  {
   "cell_type": "code",
   "execution_count": 18,
   "id": "bc2e79a4",
   "metadata": {},
   "outputs": [],
   "source": [
    "for i in range(len(buy_price)):\n",
    "    Trades = Trades.append(\n",
    "                                        pd.Series([\n",
    "                                                   buy_price[i],\n",
    "                                                   buy_date[i],\n",
    "                                                   sell_price[i],\n",
    "                                                   sell_date[i],\n",
    "                                                   (sell_price[i]-buy_price[i])/buy_price[i] ,\n",
    "            (dt.datetime.strptime(sell_date[i], '%Y-%m-%d') - dt.datetime.strptime(buy_date[i], '%Y-%m-%d')).days\n",
    "                                        ], \n",
    "                                                  index = my_columns), \n",
    "                                        ignore_index = True)"
   ]
  },
  {
   "cell_type": "code",
   "execution_count": 19,
   "id": "47b6beef",
   "metadata": {},
   "outputs": [
    {
     "data": {
      "text/html": [
       "<div>\n",
       "<style scoped>\n",
       "    .dataframe tbody tr th:only-of-type {\n",
       "        vertical-align: middle;\n",
       "    }\n",
       "\n",
       "    .dataframe tbody tr th {\n",
       "        vertical-align: top;\n",
       "    }\n",
       "\n",
       "    .dataframe thead th {\n",
       "        text-align: right;\n",
       "    }\n",
       "</style>\n",
       "<table border=\"1\" class=\"dataframe\">\n",
       "  <thead>\n",
       "    <tr style=\"text-align: right;\">\n",
       "      <th></th>\n",
       "      <th>buy_price</th>\n",
       "      <th>buy_date</th>\n",
       "      <th>sell_price</th>\n",
       "      <th>sell_date</th>\n",
       "      <th>return</th>\n",
       "      <th>duration</th>\n",
       "    </tr>\n",
       "  </thead>\n",
       "  <tbody>\n",
       "    <tr>\n",
       "      <th>0</th>\n",
       "      <td>8932.1</td>\n",
       "      <td>2009-05-13</td>\n",
       "      <td>24356.9</td>\n",
       "      <td>2011-12-04</td>\n",
       "      <td>1.726895</td>\n",
       "      <td>935</td>\n",
       "    </tr>\n",
       "    <tr>\n",
       "      <th>1</th>\n",
       "      <td>25913.8</td>\n",
       "      <td>2012-01-31</td>\n",
       "      <td>24923.2</td>\n",
       "      <td>2012-02-20</td>\n",
       "      <td>-0.038227</td>\n",
       "      <td>20</td>\n",
       "    </tr>\n",
       "    <tr>\n",
       "      <th>2</th>\n",
       "      <td>25457.6</td>\n",
       "      <td>2012-03-10</td>\n",
       "      <td>25307.5</td>\n",
       "      <td>2012-07-10</td>\n",
       "      <td>-0.005896</td>\n",
       "      <td>122</td>\n",
       "    </tr>\n",
       "    <tr>\n",
       "      <th>3</th>\n",
       "      <td>27440.1</td>\n",
       "      <td>2012-09-25</td>\n",
       "      <td>74543.4</td>\n",
       "      <td>2014-06-01</td>\n",
       "      <td>1.716586</td>\n",
       "      <td>614</td>\n",
       "    </tr>\n",
       "    <tr>\n",
       "      <th>4</th>\n",
       "      <td>75930.8</td>\n",
       "      <td>2014-11-16</td>\n",
       "      <td>71860.2</td>\n",
       "      <td>2014-12-03</td>\n",
       "      <td>-0.053609</td>\n",
       "      <td>17</td>\n",
       "    </tr>\n",
       "    <tr>\n",
       "      <th>5</th>\n",
       "      <td>67740.1</td>\n",
       "      <td>2016-01-24</td>\n",
       "      <td>77189.7</td>\n",
       "      <td>2017-02-15</td>\n",
       "      <td>0.139498</td>\n",
       "      <td>388</td>\n",
       "    </tr>\n",
       "    <tr>\n",
       "      <th>6</th>\n",
       "      <td>79596.9</td>\n",
       "      <td>2017-04-26</td>\n",
       "      <td>1366536.2</td>\n",
       "      <td>2020-11-21</td>\n",
       "      <td>16.168209</td>\n",
       "      <td>1305</td>\n",
       "    </tr>\n",
       "    <tr>\n",
       "      <th>7</th>\n",
       "      <td>1523105.8</td>\n",
       "      <td>2020-12-06</td>\n",
       "      <td>1350211.4</td>\n",
       "      <td>2021-01-05</td>\n",
       "      <td>-0.113514</td>\n",
       "      <td>30</td>\n",
       "    </tr>\n",
       "  </tbody>\n",
       "</table>\n",
       "</div>"
      ],
      "text/plain": [
       "   buy_price    buy_date  sell_price   sell_date     return duration\n",
       "0     8932.1  2009-05-13     24356.9  2011-12-04   1.726895      935\n",
       "1    25913.8  2012-01-31     24923.2  2012-02-20  -0.038227       20\n",
       "2    25457.6  2012-03-10     25307.5  2012-07-10  -0.005896      122\n",
       "3    27440.1  2012-09-25     74543.4  2014-06-01   1.716586      614\n",
       "4    75930.8  2014-11-16     71860.2  2014-12-03  -0.053609       17\n",
       "5    67740.1  2016-01-24     77189.7  2017-02-15   0.139498      388\n",
       "6    79596.9  2017-04-26   1366536.2  2020-11-21  16.168209     1305\n",
       "7  1523105.8  2020-12-06   1350211.4  2021-01-05  -0.113514       30"
      ]
     },
     "execution_count": 19,
     "metadata": {},
     "output_type": "execute_result"
    }
   ],
   "source": [
    "Trades"
   ]
  },
  {
   "cell_type": "code",
   "execution_count": 20,
   "id": "c2e96b68",
   "metadata": {},
   "outputs": [],
   "source": [
    "y = 1\n",
    "for x in Trades['return']:\n",
    "    y = y*(1+x)\n",
    "overall_return = (y-1) * 100"
   ]
  },
  {
   "cell_type": "code",
   "execution_count": 21,
   "id": "d74bde7e",
   "metadata": {},
   "outputs": [
    {
     "name": "stdout",
     "output_type": "stream",
     "text": [
      "overall return in this backtest is 11524.574959188198 %\n"
     ]
    }
   ],
   "source": [
    "print(f'overall return in this backtest is {overall_return} %')"
   ]
  }
 ],
 "metadata": {
  "kernelspec": {
   "display_name": "Python 3",
   "language": "python",
   "name": "python3"
  },
  "language_info": {
   "codemirror_mode": {
    "name": "ipython",
    "version": 3
   },
   "file_extension": ".py",
   "mimetype": "text/x-python",
   "name": "python",
   "nbconvert_exporter": "python",
   "pygments_lexer": "ipython3",
   "version": "3.8.5"
  }
 },
 "nbformat": 4,
 "nbformat_minor": 5
}
